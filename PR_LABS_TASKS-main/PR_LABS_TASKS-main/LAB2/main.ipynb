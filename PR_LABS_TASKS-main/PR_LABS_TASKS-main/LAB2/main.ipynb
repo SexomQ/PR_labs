{
 "cells": [
  {
   "cell_type": "code",
   "execution_count": 3,
   "metadata": {},
   "outputs": [
    {
     "name": "stdout",
     "output_type": "stream",
     "text": [
      "Collecting bs4Note: you may need to restart the kernel to use updated packages.\n",
      "\n",
      "  Downloading bs4-0.0.1.tar.gz (1.1 kB)\n",
      "  Installing build dependencies: started\n",
      "  Installing build dependencies: finished with status 'done'\n",
      "  Getting requirements to build wheel: started\n",
      "  Getting requirements to build wheel: finished with status 'done'\n",
      "  Preparing metadata (pyproject.toml): started\n",
      "  Preparing metadata (pyproject.toml): finished with status 'done'\n",
      "Collecting beautifulsoup4 (from bs4)\n",
      "  Downloading beautifulsoup4-4.12.2-py3-none-any.whl (142 kB)\n",
      "                                              0.0/143.0 kB ? eta -:--:--\n",
      "                                              0.0/143.0 kB ? eta -:--:--\n",
      "                                              0.0/143.0 kB ? eta -:--:--\n",
      "     --                                       10.2/143.0 kB ? eta -:--:--\n",
      "     -------                               30.7/143.0 kB 330.3 kB/s eta 0:00:01\n",
      "     ----------                            41.0/143.0 kB 330.3 kB/s eta 0:00:01\n",
      "     ----------                            41.0/143.0 kB 330.3 kB/s eta 0:00:01\n",
      "     ---------------                       61.4/143.0 kB 252.2 kB/s eta 0:00:01\n",
      "     ------------------                    71.7/143.0 kB 281.8 kB/s eta 0:00:01\n",
      "     ------------------                    71.7/143.0 kB 281.8 kB/s eta 0:00:01\n",
      "     -----------------------               92.2/143.0 kB 262.6 kB/s eta 0:00:01\n",
      "     -----------------------               92.2/143.0 kB 262.6 kB/s eta 0:00:01\n",
      "     ----------------------------         112.6/143.0 kB 234.3 kB/s eta 0:00:01\n",
      "     ----------------------------         112.6/143.0 kB 234.3 kB/s eta 0:00:01\n",
      "     ------------------------------       122.9/143.0 kB 218.7 kB/s eta 0:00:01\n",
      "     ---------------------------------    133.1/143.0 kB 225.1 kB/s eta 0:00:01\n",
      "     ---------------------------------    133.1/143.0 kB 225.1 kB/s eta 0:00:01\n",
      "     ------------------------------------ 143.0/143.0 kB 218.0 kB/s eta 0:00:00\n",
      "Collecting soupsieve>1.2 (from beautifulsoup4->bs4)\n",
      "  Downloading soupsieve-2.5-py3-none-any.whl (36 kB)\n",
      "Building wheels for collected packages: bs4\n",
      "  Building wheel for bs4 (pyproject.toml): started\n",
      "  Building wheel for bs4 (pyproject.toml): finished with status 'done'\n",
      "  Created wheel for bs4: filename=bs4-0.0.1-py3-none-any.whl size=1265 sha256=e91acad800cba369e9ec2761954ed02fff1cfc4b898255a9550e8a5fba743f91\n",
      "  Stored in directory: c:\\users\\tudor.sclifos\\appdata\\local\\pip\\cache\\wheels\\d4\\c8\\5b\\b5be9c20e5e4503d04a6eac8a3cd5c2393505c29f02bea0960\n",
      "Successfully built bs4\n",
      "Installing collected packages: soupsieve, beautifulsoup4, bs4\n",
      "Successfully installed beautifulsoup4-4.12.2 bs4-0.0.1 soupsieve-2.5\n"
     ]
    },
    {
     "name": "stderr",
     "output_type": "stream",
     "text": [
      "\n",
      "[notice] A new release of pip is available: 23.1.2 -> 23.2.1\n",
      "[notice] To update, run: python.exe -m pip install --upgrade pip\n"
     ]
    }
   ],
   "source": [
    "pip install bs4"
   ]
  },
  {
   "cell_type": "code",
   "execution_count": 1,
   "metadata": {},
   "outputs": [],
   "source": [
    "from factory import PlayerFactory\n",
    "\n",
    "from bs4 import BeautifulSoup\n"
   ]
  },
  {
   "cell_type": "code",
   "execution_count": 2,
   "metadata": {},
   "outputs": [],
   "source": [
    "with open('players.xml', 'r') as f:\n",
    "    data = f.read()"
   ]
  },
  {
   "cell_type": "code",
   "execution_count": 3,
   "metadata": {},
   "outputs": [
    {
     "name": "stdout",
     "output_type": "stream",
     "text": [
      "{'player': {'nickname': 'Beta', 'email': 'beta@gmail.com', 'date_of_birth': '2001-06-10', 'xp': '657', 'class': 'Tank'}}\n"
     ]
    }
   ],
   "source": [
    "pl = PlayerFactory()\n",
    "pla = pl.from_xml(xml_string=data)\n",
    "print(pla)\n",
    "\n"
   ]
  },
  {
   "cell_type": "code",
   "execution_count": 6,
   "metadata": {},
   "outputs": [
    {
     "ename": "TypeError",
     "evalue": "'module' object is not callable",
     "output_type": "error",
     "traceback": [
      "\u001b[1;31m---------------------------------------------------------------------------\u001b[0m",
      "\u001b[1;31mTypeError\u001b[0m                                 Traceback (most recent call last)",
      "\u001b[1;32mc:\\Users\\tudor.sclifos\\OneDrive - Anadolu Efes\\UTM3\\PR\\PR_LABS_TASKS-main\\PR_LABS_TASKS-main\\LAB2\\main.ipynb Cell 5\u001b[0m line \u001b[0;36m1\n\u001b[1;32m----> <a href='vscode-notebook-cell:/c%3A/Users/tudor.sclifos/OneDrive%20-%20Anadolu%20Efes/UTM3/PR/PR_LABS_TASKS-main/PR_LABS_TASKS-main/LAB2/main.ipynb#W4sZmlsZQ%3D%3D?line=0'>1</a>\u001b[0m pl\u001b[39m.\u001b[39;49mto_xml(pla)\n",
      "File \u001b[1;32mc:\\Users\\tudor.sclifos\\OneDrive - Anadolu Efes\\UTM3\\PR\\PR_LABS_TASKS-main\\PR_LABS_TASKS-main\\LAB2\\factory.py:85\u001b[0m, in \u001b[0;36mPlayerFactory.to_xml\u001b[1;34m(self, list_of_players)\u001b[0m\n\u001b[0;32m     81\u001b[0m     list_of_dict\u001b[39m.\u001b[39mappend(pl_dict)\n\u001b[0;32m     83\u001b[0m general_dict \u001b[39m=\u001b[39m {\u001b[39m\"\u001b[39m\u001b[39mdata\u001b[39m\u001b[39m\"\u001b[39m:list_of_dict}\n\u001b[1;32m---> 85\u001b[0m xml_format \u001b[39m=\u001b[39m dicttoxml(\u001b[39mdict\u001b[39;49m(general_dict))\n\u001b[0;32m     87\u001b[0m \u001b[39mreturn\u001b[39;00m xml_format\n",
      "\u001b[1;31mTypeError\u001b[0m: 'module' object is not callable"
     ]
    }
   ],
   "source": [
    "pl.to_xml(pla)"
   ]
  },
  {
   "cell_type": "code",
   "execution_count": null,
   "metadata": {},
   "outputs": [],
   "source": []
  }
 ],
 "metadata": {
  "kernelspec": {
   "display_name": "Python 3",
   "language": "python",
   "name": "python3"
  },
  "language_info": {
   "codemirror_mode": {
    "name": "ipython",
    "version": 3
   },
   "file_extension": ".py",
   "mimetype": "text/x-python",
   "name": "python",
   "nbconvert_exporter": "python",
   "pygments_lexer": "ipython3",
   "version": "3.11.4"
  },
  "orig_nbformat": 4
 },
 "nbformat": 4,
 "nbformat_minor": 2
}
